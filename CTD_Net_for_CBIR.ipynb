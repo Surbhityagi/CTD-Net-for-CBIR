{
  "cells": [
    {
      "cell_type": "code",
      "execution_count": null,
      "metadata": {
        "id": "rLpgU1LfNT3V"
      },
      "outputs": [],
      "source": [
        "# Function to compute color histogram in HSV space\n",
        "def compute_color_histogram(image, bins=(8, 2, 2)):\n",
        "    hsv_image = cv2.cvtColor(image, cv2.COLOR_BGR2HSV)\n",
        "    hist = cv2.calcHist([hsv_image], [0, 1, 2], None, bins, [0, 180, 0, 256, 0, 256])\n",
        "    hist = cv2.normalize(hist, hist).flatten()\n",
        "    return hist\n",
        "\n",
        "# Function to compute color moments (mean, std deviation)\n",
        "def compute_color_moments(image):\n",
        "    hsv_image = cv2.cvtColor(image, cv2.COLOR_BGR2HSV)\n",
        "    mean, std = [], []\n",
        "    for channel in cv2.split(hsv_image):\n",
        "        mean.append(np.mean(channel))\n",
        "        std.append(np.std(channel))\n",
        "    return mean + std\n",
        "\n",
        "# Function to compute Wavelet Transform\n",
        "def compute_wavelet_features(image, wavelet='db1', level=3):\n",
        "    gray_image = cv2.cvtColor(image, cv2.COLOR_BGR2GRAY)\n",
        "    coeffs = pywt.wavedec2(gray_image, wavelet, level=level)\n",
        "    # Use mean and standard deviation of coefficients at each level\n",
        "    features = []\n",
        "    for coeff in coeffs:\n",
        "        if isinstance(coeff, tuple):  # for details coefficients (horizontal, vertical, diagonal)\n",
        "            for subband in coeff:\n",
        "                features.append(np.mean(subband))\n",
        "                features.append(np.std(subband))\n",
        "        else:  # for the approximation coefficients\n",
        "            features.append(np.mean(coeff))\n",
        "            features.append(np.std(coeff))\n",
        "    return features\n",
        "\n",
        "# Function to compute LBP\n",
        "def compute_lbp_features(image, radius=2, n_points=16):\n",
        "    gray_image = cv2.cvtColor(image, cv2.COLOR_BGR2GRAY)\n",
        "    lbp = local_binary_pattern(gray_image, n_points, radius, method=\"uniform\")\n",
        "    # Create histogram of LBP\n",
        "    (hist, _) = np.histogram(lbp.ravel(), bins=np.arange(0, n_points + 3), range=(0, n_points + 2))\n",
        "    # Normalize the histogram\n",
        "    hist = hist.astype(\"float\")\n",
        "    hist /= (hist.sum() + 1e-6)\n",
        "    return hist\n",
        "\n",
        "# Combination of Handcrafted features for various experiments has been done by concatenate instructions\n",
        "\n",
        "# Load a pre-trained EfficientNet-B7 model\n",
        "model = models.efficientnet_b7(pretrained=True)\n",
        "# Remove the final classification layer to get features from the penultimate layer\n",
        "model = nn.Sequential(*list(model.children())[:-1])\n",
        "model.eval()\n",
        "\n",
        "# Transformation to resize images to 600x600 and normalize them (EfficientNet-B7 recommended input size)\n",
        "transform = transforms.Compose([\n",
        "    transforms.Resize((600, 600)),  # EfficientNet B7 recommended input size\n",
        "    transforms.ToTensor(),\n",
        "    transforms.Normalize(mean=[0.485, 0.456, 0.406], std=[0.229, 0.224, 0.225])\n",
        "])\n",
        "\n"
      ]
    }
  ],
  "metadata": {
    "colab": {
      "machine_shape": "hm",
      "provenance": []
    },
    "kernelspec": {
      "display_name": "Python 3",
      "name": "python3"
    },
    "language_info": {
      "name": "python"
    }
  },
  "nbformat": 4,
  "nbformat_minor": 0
}